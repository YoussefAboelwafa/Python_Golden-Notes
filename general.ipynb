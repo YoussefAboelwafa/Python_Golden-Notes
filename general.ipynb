{
 "cells": [
  {
   "cell_type": "markdown",
   "id": "18425ebc",
   "metadata": {},
   "source": [
    "## Enumerate in for loop\n"
   ]
  },
  {
   "cell_type": "code",
   "execution_count": null,
   "id": "69e65120",
   "metadata": {},
   "outputs": [],
   "source": [
    "fruits = [\"apple\", \"banana\", \"cherry\"]\n",
    "\n",
    "for index, fruit in enumerate(fruits, start=1):\n",
    "    print(f\"Index {index}: {fruit}\")"
   ]
  },
  {
   "cell_type": "markdown",
   "id": "42ae297f",
   "metadata": {},
   "source": [
    "## Iterate over Dictionary\n"
   ]
  },
  {
   "cell_type": "code",
   "execution_count": 3,
   "id": "d294807d",
   "metadata": {},
   "outputs": [
    {
     "name": "stdout",
     "output_type": "stream",
     "text": [
      "the capital of spain is madrid\n",
      "the capital of france is paris\n",
      "the capital of germany is berlin\n",
      "the capital of norway is oslo\n",
      "the capital of italy is rome\n",
      "the capital of poland is warsaw\n",
      "the capital of austria is vienna\n",
      "------------------------------------\n",
      "spain\n",
      "france\n",
      "germany\n",
      "norway\n",
      "italy\n",
      "poland\n",
      "austria\n",
      "------------------------------------\n",
      "madrid\n",
      "paris\n",
      "berlin\n",
      "oslo\n",
      "rome\n",
      "warsaw\n",
      "vienna\n"
     ]
    }
   ],
   "source": [
    "# Definition of dictionary\n",
    "europe = {\n",
    "    \"spain\": \"madrid\",\n",
    "    \"france\": \"paris\",\n",
    "    \"germany\": \"berlin\",\n",
    "    \"norway\": \"oslo\",\n",
    "    \"italy\": \"rome\",\n",
    "    \"poland\": \"warsaw\",\n",
    "    \"austria\": \"vienna\",\n",
    "}\n",
    "\n",
    "# Iterate over europe\n",
    "for key, value in europe.items():\n",
    "    print(f\"the capital of {key} is {value}\")\n",
    "\n",
    "print(\"------------------------------------\")\n",
    "\n",
    "# Print Keys\n",
    "for key in europe.keys():\n",
    "    print(f\"{key}\")\n",
    "\n",
    "print(\"------------------------------------\")\n",
    "\n",
    "# Print Values\n",
    "for value in europe.values():\n",
    "    print(f\"{value}\")"
   ]
  },
  {
   "cell_type": "markdown",
   "id": "f1725bc1",
   "metadata": {},
   "source": [
    "## Iterate over 2D numpy array\n"
   ]
  },
  {
   "cell_type": "code",
   "execution_count": null,
   "id": "28662214",
   "metadata": {},
   "outputs": [],
   "source": [
    "# Import numpy as np\n",
    "import numpy as np\n",
    "\n",
    "height_in = [74, 74, 72, 72, 73, 69, 69, 71, 76, 71]\n",
    "weight_lb = [180, 215, 210, 210, 188, 176, 209, 200, 231, 180]\n",
    "\n",
    "np_height = np.array(height_in)\n",
    "np_weight = np.array(weight_lb)\n",
    "np_baseball = np.array([np_height, np_weight])\n",
    "\n",
    "# For loop over np_height\n",
    "for i in np_height:\n",
    "    print(f\"{i} inches\")\n",
    "\n",
    "print()\n",
    "\n",
    "# For loop over np_baseball\n",
    "for i in np.nditer(np_baseball):\n",
    "    print(i)"
   ]
  },
  {
   "cell_type": "markdown",
   "id": "b7fae08b",
   "metadata": {},
   "source": [
    "# Random\n"
   ]
  },
  {
   "cell_type": "code",
   "execution_count": null,
   "id": "9a423360",
   "metadata": {},
   "outputs": [],
   "source": [
    "# Import numpy as np\n",
    "import numpy as np\n",
    "\n",
    "# Set the seed to make the random numbers reproducible\n",
    "np.random.seed(123)\n",
    "\n",
    "# Generate and print random float\n",
    "print(np.random.rand())"
   ]
  },
  {
   "cell_type": "code",
   "execution_count": null,
   "id": "24490508",
   "metadata": {},
   "outputs": [],
   "source": [
    "# Import numpy and set seed\n",
    "import numpy as np\n",
    "\n",
    "# Use randint() to simulate a dice\n",
    "print(np.random.randint(1, 7))"
   ]
  },
  {
   "cell_type": "markdown",
   "id": "0a0a3797",
   "metadata": {},
   "source": [
    "# Unpacking Tuples\n"
   ]
  },
  {
   "cell_type": "code",
   "execution_count": null,
   "id": "67d67986",
   "metadata": {},
   "outputs": [],
   "source": [
    "nums = (2, 4, 6)\n",
    "a, b, c = nums\n",
    "print(a)\n",
    "print(b)\n",
    "print(c)"
   ]
  },
  {
   "cell_type": "markdown",
   "id": "292c6ed8",
   "metadata": {},
   "source": [
    "# Accessing Tuple elements\n"
   ]
  },
  {
   "cell_type": "code",
   "execution_count": null,
   "id": "6e90e0b7",
   "metadata": {},
   "outputs": [],
   "source": [
    "nums = (2, 4, 6)\n",
    "for i in range(3):\n",
    "    print(nums[i])"
   ]
  }
 ],
 "metadata": {
  "kernelspec": {
   "display_name": "Python 3 (ipykernel)",
   "language": "python",
   "name": "python3"
  },
  "language_info": {
   "codemirror_mode": {
    "name": "ipython",
    "version": 3
   },
   "file_extension": ".py",
   "mimetype": "text/x-python",
   "name": "python",
   "nbconvert_exporter": "python",
   "pygments_lexer": "ipython3",
   "version": "3.11.0"
  }
 },
 "nbformat": 4,
 "nbformat_minor": 5
}
