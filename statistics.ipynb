{
 "cells": [
  {
   "cell_type": "code",
   "execution_count": null,
   "id": "117b8f6b0178df70",
   "metadata": {
    "ExecuteTime": {
     "end_time": "2023-09-11T16:02:48.189886627Z",
     "start_time": "2023-09-11T16:02:45.223517441Z"
    },
    "collapsed": false
   },
   "outputs": [],
   "source": [
    "import pandas as pd\n",
    "import numpy as np\n",
    "import matplotlib.pyplot as plt\n",
    "import scipy.stats as st\n",
    "\n",
    "food_consumption = pd.read_csv(\"datasets/food_consumption.csv\")"
   ]
  },
  {
   "cell_type": "markdown",
   "id": "5552107e",
   "metadata": {},
   "source": [
    "# Center\n"
   ]
  },
  {
   "cell_type": "code",
   "execution_count": null,
   "id": "1b2aff26217d8c82",
   "metadata": {
    "ExecuteTime": {
     "end_time": "2023-09-11T16:01:08.752624463Z",
     "start_time": "2023-09-11T16:01:08.705242558Z"
    },
    "collapsed": false
   },
   "outputs": [],
   "source": [
    "# Filter for Belgium\n",
    "be_consumption = food_consumption[food_consumption[\"country\"] == \"Belgium\"]\n",
    "\n",
    "# Filter for USA\n",
    "usa_consumption = food_consumption[food_consumption[\"country\"] == \"USA\"]\n",
    "\n",
    "# Calculate mean and median consumption in Belgium\n",
    "print(np.mean(be_consumption[\"consumption\"]))\n",
    "print(np.median(be_consumption[\"consumption\"]))\n",
    "\n",
    "# Calculate mean and median consumption in USA\n",
    "print(np.mean(usa_consumption[\"consumption\"]))\n",
    "print(np.median(usa_consumption[\"consumption\"]))"
   ]
  },
  {
   "cell_type": "code",
   "execution_count": null,
   "id": "b682e703ff6a80d6",
   "metadata": {
    "ExecuteTime": {
     "end_time": "2023-09-11T16:02:48.190644019Z",
     "start_time": "2023-09-11T16:02:45.264397908Z"
    },
    "collapsed": false
   },
   "outputs": [],
   "source": [
    "# Subset for Belgium and USA only\n",
    "be_and_usa = food_consumption[\n",
    "    (food_consumption[\"country\"] == \"Belgium\") | (food_consumption[\"country\"] == \"USA\")\n",
    "]\n",
    "\n",
    "# Group by country, select consumption column, and compute mean and median\n",
    "print(be_and_usa.groupby(\"country\")[\"consumption\"].agg([\"mean\", \"median\"]))"
   ]
  },
  {
   "cell_type": "markdown",
   "id": "f76920a9",
   "metadata": {},
   "source": [
    "# Spread\n"
   ]
  },
  {
   "cell_type": "code",
   "execution_count": null,
   "id": "2d55cfdca2339369",
   "metadata": {
    "ExecuteTime": {
     "end_time": "2023-09-11T16:02:48.191099823Z",
     "start_time": "2023-09-11T16:02:45.264739891Z"
    },
    "collapsed": false
   },
   "outputs": [],
   "source": [
    "# Interquartile range (IQR)\n",
    "x = st.iqr(food_consumption[\"consumption\"])\n",
    "print(x)"
   ]
  },
  {
   "cell_type": "code",
   "execution_count": null,
   "id": "dc0913be",
   "metadata": {},
   "outputs": [],
   "source": [
    "# Calculate the quartiles of co2_emission\n",
    "print(np.quantile(food_consumption[\"co2_emission\"], [0, 0.25, 0.5, 0.75, 1]))\n",
    "print(np.quantile(food_consumption[\"co2_emission\"], np.linspace(0, 1, 5)))"
   ]
  },
  {
   "cell_type": "code",
   "execution_count": null,
   "id": "4f1c3026",
   "metadata": {},
   "outputs": [],
   "source": [
    "# Calculate the quintiles of co2_emission using np.linspace()\n",
    "print(np.quantile(food_consumption[\"co2_emission\"], np.linspace(0, 1, 6)))"
   ]
  },
  {
   "cell_type": "code",
   "execution_count": null,
   "id": "afa775b2",
   "metadata": {},
   "outputs": [],
   "source": [
    "# Calculate the deciles of co2_emission using np.linspace()\n",
    "print(np.quantile(food_consumption[\"co2_emission\"], np.linspace(0, 1, 11)))"
   ]
  },
  {
   "cell_type": "code",
   "execution_count": null,
   "id": "6aac014a",
   "metadata": {},
   "outputs": [],
   "source": [
    "# Print variance and sd of co2_emission for each food_category\n",
    "print(food_consumption.groupby('food_category')[\"co2_emission\"].agg(['var', 'std']))\n",
    "\n",
    "# Create histogram of co2_emission for food_category 'beef'\n",
    "plt.hist(food_consumption[food_consumption[\"food_category\"] == \"beef\"][\"co2_emission\"])\n",
    "\n",
    "# Show plot\n",
    "plt.show()\n",
    "\n",
    "# Create histogram of co2_emission for food_category 'eggs'\n",
    "plt.hist(food_consumption[food_consumption[\"food_category\"] == \"eggs\"][\"co2_emission\"])\n",
    "# Show plot\n",
    "plt.show()"
   ]
  },
  {
   "cell_type": "code",
   "execution_count": null,
   "id": "311923b1",
   "metadata": {},
   "outputs": [],
   "source": [
    "# Calculate total co2_emission per country: emissions_by_country\n",
    "emissions_by_country = food_consumption.groupby(\"country\")[\"co2_emission\"].sum()\n",
    "\n",
    "print(emissions_by_country)\n",
    "print(\"-----------------------------------------------\")\n",
    "\n",
    "# Compute the first and third quartiles and IQR of emissions_by_country\n",
    "q1 = np.quantile(emissions_by_country, 0.25)\n",
    "q3 = np.quantile(emissions_by_country, 0.75)\n",
    "iqr = q3 - q1\n",
    "\n",
    "# Calculate the lower and upper cutoffs for outliers\n",
    "lower = q1 - 1.5 * iqr\n",
    "upper = q3 + 1.5 * iqr\n",
    "\n",
    "# Subset emissions_by_country to find outliers\n",
    "outliers = emissions_by_country[(emissions_by_country < lower) | (emissions_by_country > upper)]\n",
    "print(outliers)"
   ]
  }
 ],
 "metadata": {
  "kernelspec": {
   "display_name": "Python 3",
   "language": "python",
   "name": "python3"
  },
  "language_info": {
   "codemirror_mode": {
    "name": "ipython",
    "version": 3
   },
   "file_extension": ".py",
   "mimetype": "text/x-python",
   "name": "python",
   "nbconvert_exporter": "python",
   "pygments_lexer": "ipython3",
   "version": "3.10.12"
  }
 },
 "nbformat": 4,
 "nbformat_minor": 5
}
