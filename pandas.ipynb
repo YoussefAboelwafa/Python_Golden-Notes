{
 "cells": [
  {
   "cell_type": "markdown",
   "metadata": {},
   "source": [
    "## Dictionary to DataFrame\n"
   ]
  },
  {
   "cell_type": "code",
   "execution_count": 2,
   "metadata": {},
   "outputs": [
    {
     "name": "stdout",
     "output_type": "stream",
     "text": [
      "           country  drives_right  cars_per_cap\n",
      "US   United States          True           809\n",
      "AUS      Australia         False           731\n",
      "JPN          Japan         False           588\n",
      "IN           India         False            18\n",
      "RU          Russia          True           200\n",
      "MOR        Morocco          True            70\n",
      "EG           Egypt          True            45\n",
      "       cars_per_cap\n",
      "count      7.000000\n",
      "mean     351.571429\n",
      "std      345.595552\n",
      "min       18.000000\n",
      "25%       57.500000\n",
      "50%      200.000000\n",
      "75%      659.500000\n",
      "max      809.000000\n"
     ]
    }
   ],
   "source": [
    "# Pre-defined lists\n",
    "names = [\"United States\", \"Australia\", \"Japan\", \"India\", \"Russia\", \"Morocco\", \"Egypt\"]\n",
    "dr = [True, False, False, False, True, True, True]\n",
    "cpc = [809, 731, 588, 18, 200, 70, 45]\n",
    "\n",
    "# Import pandas as pd\n",
    "import pandas as pd\n",
    "\n",
    "# Create dictionary my_dict with three key:value pairs: my_dict\n",
    "my_dict = {\"country\": names, \"drives_right\": dr, \"cars_per_cap\": cpc}\n",
    "\n",
    "# Build a DataFrame cars from my_dict: cars\n",
    "cars = pd.DataFrame(my_dict)\n",
    "\n",
    "# Definition of row_labels\n",
    "row_labels = [\"US\", \"AUS\", \"JPN\", \"IN\", \"RU\", \"MOR\", \"EG\"]\n",
    "\n",
    "# Specify row labels of cars\n",
    "cars.index = row_labels\n",
    "\n",
    "# Print cars\n",
    "print(cars)\n",
    "print(cars.describe())"
   ]
  },
  {
   "cell_type": "markdown",
   "metadata": {},
   "source": [
    "## CSV to DataFrame\n"
   ]
  },
  {
   "cell_type": "code",
   "execution_count": 3,
   "metadata": {},
   "outputs": [
    {
     "name": "stdout",
     "output_type": "stream",
     "text": [
      "     cars_per_cap       country  drives_right\n",
      "US            809  UnitedStates          True\n",
      "AUS           731     Australia         False\n",
      "JPN           588         Japan         False\n",
      "IN             45         India         False\n",
      "RU            200        Russia          True\n",
      "MOR            70       Morocco          True\n",
      "EG             45         Egypt          True\n",
      "----------------------------------------------\n",
      "(7, 3)\n",
      "----------------------------------------------\n",
      "<class 'pandas.core.frame.DataFrame'>\n",
      "Index: 7 entries, US to EG\n",
      "Data columns (total 3 columns):\n",
      " #   Column        Non-Null Count  Dtype \n",
      "---  ------        --------------  ----- \n",
      " 0   cars_per_cap  7 non-null      int64 \n",
      " 1   country       7 non-null      object\n",
      " 2   drives_right  7 non-null      bool  \n",
      "dtypes: bool(1), int64(1), object(1)\n",
      "memory usage: 175.0+ bytes\n",
      "None\n",
      "----------------------------------------------\n",
      "       cars_per_cap\n",
      "count      7.000000\n",
      "mean     355.428571\n",
      "std      341.377043\n",
      "min       45.000000\n",
      "25%       57.500000\n",
      "50%      200.000000\n",
      "75%      659.500000\n",
      "max      809.000000\n",
      "----------------------------------------------\n",
      "[[809 'UnitedStates' True]\n",
      " [731 'Australia' False]\n",
      " [588 'Japan' False]\n",
      " [45 'India' False]\n",
      " [200 'Russia' True]\n",
      " [70 'Morocco' True]\n",
      " [45 'Egypt' True]]\n",
      "----------------------------------------------\n",
      "cars_per_cap    0\n",
      "country         0\n",
      "drives_right    0\n",
      "dtype: int64\n",
      "----------------------------------------------\n",
      "Index(['cars_per_cap', 'country', 'drives_right'], dtype='object')\n",
      "----------------------------------------------\n",
      "Index(['US', 'AUS', 'JPN', 'IN', 'RU', 'MOR', 'EG'], dtype='object')\n",
      "----------------------------------------------\n"
     ]
    }
   ],
   "source": [
    "# Import pandas as pd\n",
    "import pandas as pd\n",
    "\n",
    "# Fix import by including index_col\n",
    "cars = pd.read_csv(\"datasets/cars.csv\", index_col=0)\n",
    "# Print out cars\n",
    "print(cars)\n",
    "print(\"----------------------------------------------\")\n",
    "print(cars.shape)\n",
    "print(\"----------------------------------------------\")\n",
    "print(cars.info())\n",
    "print(\"----------------------------------------------\")\n",
    "# Summary statistics for numerical data\n",
    "print(cars.describe())\n",
    "print(\"----------------------------------------------\")\n",
    "# Print the values of homelessness\n",
    "print(cars.values)\n",
    "print(\"----------------------------------------------\")\n",
    "# Know how many null values a column has\n",
    "print(cars.isnull().sum())\n",
    "print(\"----------------------------------------------\")\n",
    "# Print the column index of homelessness\n",
    "print(cars.columns)\n",
    "print(\"----------------------------------------------\")\n",
    "# Print the row index of homelessness\n",
    "print(cars.index)\n",
    "print(\"----------------------------------------------\")"
   ]
  },
  {
   "cell_type": "markdown",
   "metadata": {},
   "source": [
    "## Dataframe to CSV"
   ]
  },
  {
   "cell_type": "code",
   "execution_count": 26,
   "metadata": {},
   "outputs": [],
   "source": [
    "output = pd.DataFrame({'Country': cars.index,\n",
    "                       'cpc': cars.cars_per_cap})\n",
    "output.to_csv('datasets/submission.csv', index=False)"
   ]
  },
  {
   "cell_type": "markdown",
   "metadata": {},
   "source": [
    "## Col access using brackets\n"
   ]
  },
  {
   "cell_type": "code",
   "execution_count": 5,
   "metadata": {},
   "outputs": [
    {
     "name": "stdout",
     "output_type": "stream",
     "text": [
      "     cars_per_cap       country  drives_right\n",
      "US            809  UnitedStates          True\n",
      "AUS           731     Australia         False\n",
      "JPN           588         Japan         False\n",
      "IN             45         India         False\n",
      "RU            200        Russia          True\n",
      "MOR            70       Morocco          True\n",
      "EG             45         Egypt          True\n",
      "----------------------------------------------\n",
      "          country  drives_right\n",
      "US   UnitedStates          True\n",
      "AUS     Australia         False\n",
      "JPN         Japan         False\n",
      "IN          India         False\n",
      "RU         Russia          True\n",
      "MOR       Morocco          True\n",
      "EG          Egypt          True\n",
      "----------------------------------------------\n",
      "          country\n",
      "US   UnitedStates\n",
      "AUS     Australia\n",
      "JPN         Japan\n",
      "IN          India\n",
      "RU         Russia\n",
      "MOR       Morocco\n",
      "EG          Egypt\n",
      "----------------------------------------------\n"
     ]
    }
   ],
   "source": [
    "import pandas as pd\n",
    "\n",
    "cars = pd.read_csv(\"datasets/cars.csv\", index_col=0)\n",
    "\n",
    "print(cars)\n",
    "print(\"----------------------------------------------\")\n",
    "print(cars[[\"country\", \"drives_right\"]])\n",
    "print(\"----------------------------------------------\")\n",
    "print(cars[[\"country\"]])\n",
    "print(\"----------------------------------------------\")"
   ]
  },
  {
   "cell_type": "markdown",
   "metadata": {},
   "source": [
    "## Row access using brackets\n"
   ]
  },
  {
   "cell_type": "code",
   "execution_count": 6,
   "metadata": {},
   "outputs": [
    {
     "name": "stdout",
     "output_type": "stream",
     "text": [
      "     cars_per_cap       country  drives_right\n",
      "US            809  UnitedStates          True\n",
      "AUS           731     Australia         False\n",
      "JPN           588         Japan         False\n",
      "IN             45         India         False\n",
      "RU            200        Russia          True\n",
      "MOR            70       Morocco          True\n",
      "EG             45         Egypt          True\n",
      "----------------------------------------------\n",
      "     cars_per_cap    country  drives_right\n",
      "AUS           731  Australia         False\n",
      "JPN           588      Japan         False\n",
      "IN             45      India         False\n",
      "----------------------------------------------\n",
      "     cars_per_cap       country  drives_right\n",
      "US            809  UnitedStates          True\n",
      "AUS           731     Australia         False\n",
      "JPN           588         Japan         False\n",
      "IN             45         India         False\n",
      "RU            200        Russia          True\n",
      "MOR            70       Morocco          True\n"
     ]
    }
   ],
   "source": [
    "import pandas as pd\n",
    "\n",
    "cars = pd.read_csv(\"datasets/cars.csv\", index_col=0)\n",
    "\n",
    "print(cars)\n",
    "print(\"----------------------------------------------\")\n",
    "print(cars[1:4])\n",
    "print(\"----------------------------------------------\")\n",
    "print(cars.head(6))"
   ]
  },
  {
   "cell_type": "markdown",
   "metadata": {},
   "source": [
    "## Rows & Cols access using loc & iloc\n",
    "\n",
    "`[Subsetting DataFrame]`\n"
   ]
  },
  {
   "cell_type": "code",
   "execution_count": 7,
   "metadata": {},
   "outputs": [
    {
     "name": "stdout",
     "output_type": "stream",
     "text": [
      "     cars_per_cap       country  drives_right\n",
      "US            809  UnitedStates          True\n",
      "AUS           731     Australia         False\n",
      "JPN           588         Japan         False\n",
      "IN             45         India         False\n",
      "RU            200        Russia          True\n",
      "MOR            70       Morocco          True\n",
      "EG             45         Egypt          True\n",
      "----------------------------------------------\n",
      "    cars_per_cap country  drives_right\n",
      "RU           200  Russia          True\n",
      "----------------------------------------------\n",
      "    cars_per_cap country  drives_right\n",
      "RU           200  Russia          True\n",
      "----------------------------------------------\n",
      "cars_per_cap       200\n",
      "country         Russia\n",
      "drives_right      True\n",
      "Name: RU, dtype: object\n",
      "----------------------------------------------\n",
      "    cars_per_cap country  drives_right\n",
      "RU           200  Russia          True\n",
      "----------------------------------------------\n",
      "    cars_per_cap country  drives_right\n",
      "RU           200  Russia          True\n",
      "IN            45   India         False\n",
      "EG            45   Egypt          True\n",
      "----------------------------------------------\n",
      "    cars_per_cap country  drives_right\n",
      "RU           200  Russia          True\n",
      "IN            45   India         False\n",
      "EG            45   Egypt          True\n",
      "----------------------------------------------\n",
      "   country  drives_right\n",
      "RU  Russia          True\n",
      "IN   India         False\n",
      "EG   Egypt          True\n",
      "----------------------------------------------\n",
      "   country  drives_right\n",
      "RU  Russia          True\n",
      "IN   India         False\n",
      "EG   Egypt          True\n",
      "----------------------------------------------\n",
      "          country  drives_right\n",
      "US   UnitedStates          True\n",
      "AUS     Australia         False\n",
      "JPN         Japan         False\n",
      "IN          India         False\n",
      "RU         Russia          True\n",
      "MOR       Morocco          True\n",
      "EG          Egypt          True\n",
      "----------------------------------------------\n",
      "          country  drives_right\n",
      "US   UnitedStates          True\n",
      "AUS     Australia         False\n",
      "JPN         Japan         False\n",
      "IN          India         False\n",
      "RU         Russia          True\n",
      "MOR       Morocco          True\n",
      "EG          Egypt          True\n",
      "----------------------------------------------\n",
      "   country\n",
      "RU  Russia\n",
      "----------------------------------------------\n",
      "   country  drives_right\n",
      "RU  Russia          True\n",
      "IN   India         False\n",
      "EG   Egypt          True\n",
      "----------------------------------------------\n"
     ]
    }
   ],
   "source": [
    "import pandas as pd\n",
    "\n",
    "cars = pd.read_csv(\"datasets/cars.csv\", index_col=0)\n",
    "\n",
    "print(cars)\n",
    "print(\"----------------------------------------------\")\n",
    "\n",
    "\n",
    "# Access row by label\n",
    "print(cars.loc[[\"RU\"]])\n",
    "print(\"----------------------------------------------\")\n",
    "print(cars.iloc[[4]])\n",
    "print(\"----------------------------------------------\")\n",
    "\n",
    "# print as series\n",
    "print(cars.loc[\"RU\"])\n",
    "print(\"----------------------------------------------\")\n",
    "\n",
    "# print as dataframe\n",
    "print(cars.loc[[\"RU\"]])\n",
    "print(\"----------------------------------------------\")\n",
    "\n",
    "\n",
    "# Access multiple rows by label\n",
    "print(cars.loc[[\"RU\", \"IN\", \"EG\"]])\n",
    "print(\"----------------------------------------------\")\n",
    "print(cars.iloc[[4, 3, 6]])\n",
    "print(\"----------------------------------------------\")\n",
    "\n",
    "\n",
    "# Access row and column by label\n",
    "print(cars.loc[[\"RU\", \"IN\", \"EG\"], [\"country\", \"drives_right\"]])\n",
    "print(\"----------------------------------------------\")\n",
    "print(cars.iloc[[4, 3, 6], [1, 2]])\n",
    "print(\"----------------------------------------------\")\n",
    "\n",
    "\n",
    "# All rows, some columns\n",
    "print(cars.loc[:, [\"country\", \"drives_right\"]])\n",
    "print(\"----------------------------------------------\")\n",
    "print(cars.iloc[:, [1, 2]])\n",
    "print(\"----------------------------------------------\")\n",
    "\n",
    "\n",
    "# specific cell\n",
    "print(cars.loc[[\"RU\"], [\"country\"]])\n",
    "print(\"----------------------------------------------\")\n",
    "\n",
    "# Sub-dataframe\n",
    "print(cars.loc[[\"RU\", \"IN\", \"EG\"], [\"country\", \"drives_right\"]])\n",
    "print(\"----------------------------------------------\")"
   ]
  },
  {
   "cell_type": "markdown",
   "metadata": {},
   "source": [
    "## Filtering from dataframe based on a condition\n"
   ]
  },
  {
   "cell_type": "code",
   "execution_count": 8,
   "metadata": {},
   "outputs": [
    {
     "name": "stdout",
     "output_type": "stream",
     "text": [
      "US      True\n",
      "AUS    False\n",
      "JPN    False\n",
      "IN     False\n",
      "RU      True\n",
      "MOR     True\n",
      "EG      True\n",
      "Name: drives_right, dtype: bool\n",
      "----------------------------------------------\n",
      "     cars_per_cap       country  drives_right\n",
      "US            809  UnitedStates          True\n",
      "RU            200        Russia          True\n",
      "MOR            70       Morocco          True\n",
      "EG             45         Egypt          True\n"
     ]
    }
   ],
   "source": [
    "# Import cars data\n",
    "import pandas as pd\n",
    "\n",
    "cars = pd.read_csv(\"datasets/cars.csv\", index_col=0)\n",
    "\n",
    "# Extract drives_right column as Series: dr\n",
    "dr = cars[\"drives_right\"]\n",
    "print(dr)\n",
    "print(\"----------------------------------------------\")\n",
    "\n",
    "# Use dr to subset cars: sel\n",
    "sel = dr == True\n",
    "\n",
    "# Print sel\n",
    "print(cars[sel])"
   ]
  },
  {
   "cell_type": "code",
   "execution_count": 9,
   "metadata": {},
   "outputs": [
    {
     "name": "stdout",
     "output_type": "stream",
     "text": [
      "US     809\n",
      "AUS    731\n",
      "JPN    588\n",
      "IN      45\n",
      "RU     200\n",
      "MOR     70\n",
      "EG      45\n",
      "Name: cars_per_cap, dtype: int64\n"
     ]
    }
   ],
   "source": [
    "# Import cars data\n",
    "import pandas as pd\n",
    "\n",
    "cars = pd.read_csv(\"datasets/cars.csv\", index_col=0)\n",
    "\n",
    "# Create car_maniac: observations that have a cars_per_cap over 500\n",
    "cpc = cars[\"cars_per_cap\"]\n",
    "many_cars = cpc > 500\n",
    "car_maniac = cars[many_cars]\n",
    "\n",
    "# Print car_maniac\n",
    "print(cpc)"
   ]
  },
  {
   "cell_type": "code",
   "execution_count": 10,
   "metadata": {},
   "outputs": [
    {
     "name": "stdout",
     "output_type": "stream",
     "text": [
      "    cars_per_cap country  drives_right\n",
      "RU           200  Russia          True\n"
     ]
    }
   ],
   "source": [
    "# Import cars data\n",
    "import pandas as pd\n",
    "\n",
    "cars = pd.read_csv(\"datasets/cars.csv\", index_col=0)\n",
    "\n",
    "# Import numpy, you'll need this\n",
    "import numpy as np\n",
    "\n",
    "# Create medium: observations with cars_per_cap between 100 and 500\n",
    "cpc = cars[\"cars_per_cap\"]\n",
    "between = np.logical_and(cpc > 100, cpc < 500)\n",
    "medium = cars[between]\n",
    "\n",
    "# Print medium\n",
    "print(medium)"
   ]
  },
  {
   "cell_type": "markdown",
   "metadata": {},
   "source": [
    "## Iterate over a dataframe\n"
   ]
  },
  {
   "cell_type": "code",
   "execution_count": 11,
   "metadata": {},
   "outputs": [
    {
     "name": "stdout",
     "output_type": "stream",
     "text": [
      "US\n",
      "cars_per_cap             809\n",
      "country         UnitedStates\n",
      "drives_right            True\n",
      "Name: US, dtype: object\n",
      "AUS\n",
      "cars_per_cap          731\n",
      "country         Australia\n",
      "drives_right        False\n",
      "Name: AUS, dtype: object\n",
      "JPN\n",
      "cars_per_cap      588\n",
      "country         Japan\n",
      "drives_right    False\n",
      "Name: JPN, dtype: object\n",
      "IN\n",
      "cars_per_cap       45\n",
      "country         India\n",
      "drives_right    False\n",
      "Name: IN, dtype: object\n",
      "RU\n",
      "cars_per_cap       200\n",
      "country         Russia\n",
      "drives_right      True\n",
      "Name: RU, dtype: object\n",
      "MOR\n",
      "cars_per_cap         70\n",
      "country         Morocco\n",
      "drives_right       True\n",
      "Name: MOR, dtype: object\n",
      "EG\n",
      "cars_per_cap       45\n",
      "country         Egypt\n",
      "drives_right     True\n",
      "Name: EG, dtype: object\n"
     ]
    }
   ],
   "source": [
    "# Import cars data\n",
    "import pandas as pd\n",
    "\n",
    "cars = pd.read_csv(\"datasets/cars.csv\", index_col=0)\n",
    "\n",
    "# Iterate over rows of cars\n",
    "for label, row in cars.iterrows():\n",
    "    print(label)\n",
    "    print(row)"
   ]
  },
  {
   "cell_type": "code",
   "execution_count": 12,
   "metadata": {},
   "outputs": [
    {
     "name": "stdout",
     "output_type": "stream",
     "text": [
      "US: 809\n",
      "AUS: 731\n",
      "JPN: 588\n",
      "IN: 45\n",
      "RU: 200\n",
      "MOR: 70\n",
      "EG: 45\n"
     ]
    }
   ],
   "source": [
    "# Import cars data\n",
    "import pandas as pd\n",
    "\n",
    "cars = pd.read_csv(\"datasets/cars.csv\", index_col=0)\n",
    "\n",
    "# Adapt for loop\n",
    "for lab, row in cars.iterrows():\n",
    "    print(f\"{lab}: {row['cars_per_cap']}\")"
   ]
  },
  {
   "cell_type": "markdown",
   "metadata": {},
   "source": [
    "# Add column\n"
   ]
  },
  {
   "cell_type": "code",
   "execution_count": 13,
   "metadata": {},
   "outputs": [
    {
     "name": "stdout",
     "output_type": "stream",
     "text": [
      "     cars_per_cap       country  drives_right\n",
      "US            809  UnitedStates          True\n",
      "AUS           731     Australia         False\n",
      "JPN           588         Japan         False\n",
      "IN             45         India         False\n",
      "RU            200        Russia          True\n",
      "MOR            70       Morocco          True\n",
      "EG             45         Egypt          True\n",
      "----------------------------------------------\n",
      "     cars_per_cap       country  drives_right  cpc per 1000\n",
      "US            809  UnitedStates          True         0.809\n",
      "AUS           731     Australia         False         0.731\n",
      "JPN           588         Japan         False         0.588\n",
      "IN             45         India         False         0.045\n",
      "RU            200        Russia          True         0.200\n",
      "MOR            70       Morocco          True         0.070\n",
      "EG             45         Egypt          True         0.045\n"
     ]
    }
   ],
   "source": [
    "# Import cars data\n",
    "import pandas as pd\n",
    "\n",
    "cars = pd.read_csv(\"datasets/cars.csv\", index_col=0)\n",
    "print(cars)\n",
    "print(\"----------------------------------------------\")\n",
    "\n",
    "cars[\"cpc per 1000\"] = cars[\"cars_per_cap\"] / 1000\n",
    "\n",
    "# Print cars\n",
    "print(cars)"
   ]
  },
  {
   "cell_type": "markdown",
   "metadata": {},
   "source": [
    "## Add column using `loc`\n"
   ]
  },
  {
   "cell_type": "code",
   "execution_count": 14,
   "metadata": {},
   "outputs": [
    {
     "name": "stdout",
     "output_type": "stream",
     "text": [
      "     cars_per_cap       country  drives_right\n",
      "US            809  UnitedStates          True\n",
      "AUS           731     Australia         False\n",
      "JPN           588         Japan         False\n",
      "IN             45         India         False\n",
      "RU            200        Russia          True\n",
      "MOR            70       Morocco          True\n",
      "EG             45         Egypt          True\n",
      "----------------------------------------------\n",
      "     cars_per_cap       country  drives_right       COUNTRY\n",
      "US            809  UnitedStates          True  UNITEDSTATES\n",
      "AUS           731     Australia         False     AUSTRALIA\n",
      "JPN           588         Japan         False         JAPAN\n",
      "IN             45         India         False         INDIA\n",
      "RU            200        Russia          True        RUSSIA\n",
      "MOR            70       Morocco          True       MOROCCO\n",
      "EG             45         Egypt          True         EGYPT\n"
     ]
    },
    {
     "name": "stderr",
     "output_type": "stream",
     "text": [
      "/tmp/ipykernel_8180/922820527.py:9: FutureWarning: Setting an item of incompatible dtype is deprecated and will raise in a future error of pandas. Value 'UNITEDSTATES' has dtype incompatible with float64, please explicitly cast to a compatible dtype first.\n",
      "  cars.loc[label, \"COUNTRY\"] = row[\"country\"].upper()\n"
     ]
    }
   ],
   "source": [
    "# Import cars data\n",
    "import pandas as pd\n",
    "\n",
    "cars = pd.read_csv(\"datasets/cars.csv\", index_col=0)\n",
    "print(cars)\n",
    "print(\"----------------------------------------------\")\n",
    "# Code for loop that adds COUNTRY column\n",
    "for label, row in cars.iterrows():\n",
    "    cars.loc[label, \"COUNTRY\"] = row[\"country\"].upper()\n",
    "\n",
    "# Print cars\n",
    "print(cars)"
   ]
  },
  {
   "cell_type": "markdown",
   "metadata": {},
   "source": [
    "## Add column using `apply()`\n"
   ]
  },
  {
   "cell_type": "code",
   "execution_count": 15,
   "metadata": {},
   "outputs": [
    {
     "name": "stdout",
     "output_type": "stream",
     "text": [
      "     cars_per_cap       country  drives_right\n",
      "US            809  UnitedStates          True\n",
      "AUS           731     Australia         False\n",
      "JPN           588         Japan         False\n",
      "IN             45         India         False\n",
      "RU            200        Russia          True\n",
      "MOR            70       Morocco          True\n",
      "EG             45         Egypt          True\n",
      "----------------------------------------------\n",
      "     cars_per_cap       country  drives_right       COUNTRY  country length\n",
      "US            809  UnitedStates          True  UNITEDSTATES              12\n",
      "AUS           731     Australia         False     AUSTRALIA               9\n",
      "JPN           588         Japan         False         JAPAN               5\n",
      "IN             45         India         False         INDIA               5\n",
      "RU            200        Russia          True        RUSSIA               6\n",
      "MOR            70       Morocco          True       MOROCCO               7\n",
      "EG             45         Egypt          True         EGYPT               5\n"
     ]
    }
   ],
   "source": [
    "# Import cars data\n",
    "import pandas as pd\n",
    "\n",
    "cars = pd.read_csv(\"datasets/cars.csv\", index_col=0)\n",
    "print(cars)\n",
    "print(\"----------------------------------------------\")\n",
    "# Use .apply(str.upper) beacuse .upper() is a method\n",
    "cars[\"COUNTRY\"] = cars[\"country\"].apply(str.upper)\n",
    "# use .apply(len) because len() is a function\n",
    "cars[\"country length\"] = cars[\"country\"].apply(len)\n",
    "\n",
    "print(cars)"
   ]
  },
  {
   "cell_type": "markdown",
   "metadata": {},
   "source": [
    "## Sorting based on Col\n"
   ]
  },
  {
   "cell_type": "code",
   "execution_count": 16,
   "metadata": {},
   "outputs": [
    {
     "name": "stdout",
     "output_type": "stream",
     "text": [
      "     cars_per_cap       country  drives_right\n",
      "US            809  UnitedStates          True\n",
      "AUS           731     Australia         False\n",
      "JPN           588         Japan         False\n",
      "IN             45         India         False\n",
      "RU            200        Russia          True\n",
      "MOR            70       Morocco          True\n",
      "EG             45         Egypt          True\n",
      "----------------------------------------------\n",
      "     cars_per_cap       country  drives_right\n",
      "US            809  UnitedStates          True\n",
      "AUS           731     Australia         False\n",
      "JPN           588         Japan         False\n",
      "RU            200        Russia          True\n",
      "MOR            70       Morocco          True\n",
      "IN             45         India         False\n",
      "EG             45         Egypt          True\n",
      "----------------------------------------------\n",
      "     cars_per_cap       country  drives_right\n",
      "EG             45         Egypt          True\n",
      "IN             45         India         False\n",
      "MOR            70       Morocco          True\n",
      "RU            200        Russia          True\n",
      "JPN           588         Japan         False\n",
      "AUS           731     Australia         False\n",
      "US            809  UnitedStates          True\n",
      "----------------------------------------------\n"
     ]
    }
   ],
   "source": [
    "# Import cars data\n",
    "import pandas as pd\n",
    "\n",
    "cars = pd.read_csv(\"datasets/cars.csv\", index_col=0)\n",
    "print(cars)\n",
    "print(\"----------------------------------------------\")\n",
    "# sorting based on one column\n",
    "cars_cpc = cars.sort_values(\"cars_per_cap\", ascending=False)\n",
    "print(cars_cpc)\n",
    "print(\"----------------------------------------------\")\n",
    "# sorting based on multiple columns\n",
    "cars_cpc_country = cars.sort_values([\"cars_per_cap\", \"country\"], ascending=[True, True])\n",
    "print(cars_cpc_country)\n",
    "print(\"----------------------------------------------\")"
   ]
  },
  {
   "cell_type": "markdown",
   "metadata": {},
   "source": [
    "## Subsetting rows by categorical variables with `isin()`\n"
   ]
  },
  {
   "cell_type": "code",
   "execution_count": 17,
   "metadata": {},
   "outputs": [
    {
     "name": "stdout",
     "output_type": "stream",
     "text": [
      "     cars_per_cap       country  drives_right\n",
      "US            809  UnitedStates          True\n",
      "AUS           731     Australia         False\n",
      "JPN           588         Japan         False\n",
      "IN             45         India         False\n",
      "RU            200        Russia          True\n",
      "MOR            70       Morocco          True\n",
      "EG             45         Egypt          True\n",
      "----------------------------------------------\n",
      "     cars_per_cap country  drives_right\n",
      "JPN           588   Japan         False\n",
      "RU            200  Russia          True\n",
      "EG             45   Egypt          True\n",
      "----------------------------------------------\n"
     ]
    }
   ],
   "source": [
    "# Import cars data\n",
    "import pandas as pd\n",
    "\n",
    "cars = pd.read_csv(\"datasets/cars.csv\", index_col=0)\n",
    "print(cars)\n",
    "print(\"----------------------------------------------\")\n",
    "countries = [\"Japan\", \"Russia\", \"Egypt\"]\n",
    "conditions = cars[\"country\"].isin(countries)\n",
    "print(cars[conditions])\n",
    "print(\"----------------------------------------------\")"
   ]
  },
  {
   "cell_type": "markdown",
   "metadata": {},
   "source": [
    "## Summary Statistics\n"
   ]
  },
  {
   "cell_type": "code",
   "execution_count": 18,
   "metadata": {},
   "outputs": [
    {
     "name": "stdout",
     "output_type": "stream",
     "text": [
      "   store type  department        date  weekly_sales  is_holiday  \\\n",
      "0      1    A           1  2010-02-05      24924.50       False   \n",
      "1      1    A           1  2010-03-05      21827.90       False   \n",
      "2      1    A           1  2010-04-02      57258.43       False   \n",
      "3      1    A           1  2010-05-07      17413.94       False   \n",
      "4      1    A           1  2010-06-04      17558.09       False   \n",
      "\n",
      "   temperature_c  fuel_price_usd_per_l  unemployment  \n",
      "0       5.727778              0.679451         8.106  \n",
      "1       8.055556              0.693452         8.106  \n",
      "2      16.816667              0.718284         7.808  \n",
      "3      22.527778              0.748928         7.808  \n",
      "4      27.050000              0.714586         7.808  \n",
      "----------------------------------------------\n",
      "23843.95014850566\n",
      "----------------------------------------------\n",
      "12049.064999999999\n",
      "----------------------------------------------\n",
      "2012-10-26\n",
      "----------------------------------------------\n",
      "2010-02-05\n",
      "----------------------------------------------\n"
     ]
    }
   ],
   "source": [
    "import pandas as pd\n",
    "\n",
    "sales = pd.read_csv(\"datasets/sales.csv\", index_col=0)\n",
    "print(sales.head())\n",
    "print(\"----------------------------------------------\")\n",
    "\n",
    "\n",
    "# Print the mean of weekly_sales\n",
    "print(sales[\"weekly_sales\"].mean())\n",
    "print(\"----------------------------------------------\")\n",
    "\n",
    "# Print the median of weekly_sales\n",
    "print(sales[\"weekly_sales\"].median())\n",
    "print(\"----------------------------------------------\")\n",
    "\n",
    "# Print the maximum of the date column\n",
    "print(sales['date'].max())\n",
    "print(\"----------------------------------------------\")\n",
    "\n",
    "# Print the minimum of the date column\n",
    "print(sales['date'].min())\n",
    "print(\"----------------------------------------------\")\n"
   ]
  },
  {
   "cell_type": "markdown",
   "metadata": {},
   "source": [
    "## Use `agg()`"
   ]
  },
  {
   "cell_type": "code",
   "execution_count": 19,
   "metadata": {},
   "outputs": [
    {
     "name": "stdout",
     "output_type": "stream",
     "text": [
      "   store type  department        date  weekly_sales  is_holiday  \\\n",
      "0      1    A           1  2010-02-05      24924.50       False   \n",
      "1      1    A           1  2010-03-05      21827.90       False   \n",
      "2      1    A           1  2010-04-02      57258.43       False   \n",
      "3      1    A           1  2010-05-07      17413.94       False   \n",
      "4      1    A           1  2010-06-04      17558.09       False   \n",
      "\n",
      "   temperature_c  fuel_price_usd_per_l  unemployment  \n",
      "0       5.727778              0.679451         8.106  \n",
      "1       8.055556              0.693452         8.106  \n",
      "2      16.816667              0.718284         7.808  \n",
      "3      22.527778              0.748928         7.808  \n",
      "4      27.050000              0.714586         7.808  \n",
      "----------------------------------------------\n",
      "16.583333333333336\n",
      "----------------------------------------------\n",
      "temperature_c           16.583333\n",
      "fuel_price_usd_per_l     0.073176\n",
      "unemployment             0.565000\n",
      "dtype: float64\n",
      "----------------------------------------------\n",
      "        temperature_c  fuel_price_usd_per_l  unemployment\n",
      "iqr         16.583333              0.073176         0.565\n",
      "median      16.966667              0.743381         8.099\n"
     ]
    },
    {
     "name": "stderr",
     "output_type": "stream",
     "text": [
      "/tmp/ipykernel_8180/3289673961.py:20: FutureWarning: The provided callable <function median at 0x7f0a9d108790> is currently using Series.median. In a future version of pandas, the provided callable will be used directly. To keep current behavior pass 'median' instead.\n",
      "  print(sales[[\"temperature_c\", \"fuel_price_usd_per_l\", \"unemployment\"]].agg([iqr, np.median]))\n",
      "/tmp/ipykernel_8180/3289673961.py:20: FutureWarning: The provided callable <function median at 0x7f0a9d108790> is currently using Series.median. In a future version of pandas, the provided callable will be used directly. To keep current behavior pass 'median' instead.\n",
      "  print(sales[[\"temperature_c\", \"fuel_price_usd_per_l\", \"unemployment\"]].agg([iqr, np.median]))\n",
      "/tmp/ipykernel_8180/3289673961.py:20: FutureWarning: The provided callable <function median at 0x7f0a9d108790> is currently using Series.median. In a future version of pandas, the provided callable will be used directly. To keep current behavior pass 'median' instead.\n",
      "  print(sales[[\"temperature_c\", \"fuel_price_usd_per_l\", \"unemployment\"]].agg([iqr, np.median]))\n"
     ]
    }
   ],
   "source": [
    "import pandas as pd\n",
    "\n",
    "sales = pd.read_csv(\"datasets/sales.csv\", index_col=0)\n",
    "print(sales.head())\n",
    "print(\"----------------------------------------------\")\n",
    "\n",
    "# A custom IQR function\n",
    "def iqr(column):\n",
    "    return column.quantile(0.75) - column.quantile(0.25)\n",
    "    \n",
    "# Print IQR of the temperature_c column\n",
    "print(sales['temperature_c'].agg(iqr))\n",
    "print(\"----------------------------------------------\")\n",
    "\n",
    "# Update to print IQR of temperature_c, fuel_price_usd_per_l, & unemployment\n",
    "print(sales[[\"temperature_c\", \"fuel_price_usd_per_l\", \"unemployment\"]].agg(iqr))\n",
    "print(\"----------------------------------------------\")\n",
    "\n",
    "# Update to print IQR and median of temperature_c, fuel_price_usd_per_l, & unemployment\n",
    "print(sales[[\"temperature_c\", \"fuel_price_usd_per_l\", \"unemployment\"]].agg([iqr, np.median]))\n"
   ]
  },
  {
   "cell_type": "markdown",
   "metadata": {},
   "source": [
    "## Droping Duplicate `drop_duplicates(subset = ['',''])`"
   ]
  },
  {
   "cell_type": "code",
   "execution_count": 20,
   "metadata": {},
   "outputs": [
    {
     "name": "stdout",
     "output_type": "stream",
     "text": [
      "      store type  department        date  weekly_sales  is_holiday  \\\n",
      "0         1    A           1  2010-02-05      24924.50       False   \n",
      "901       2    A           1  2010-02-05      35034.06       False   \n",
      "1798      4    A           1  2010-02-05      38724.42       False   \n",
      "2699      6    A           1  2010-02-05      25619.00       False   \n",
      "3593     10    B           1  2010-02-05      40212.84       False   \n",
      "\n",
      "      temperature_c  fuel_price_usd_per_l  unemployment  \n",
      "0          5.727778              0.679451         8.106  \n",
      "901        4.550000              0.679451         8.324  \n",
      "1798       6.533333              0.686319         8.623  \n",
      "2699       4.683333              0.679451         7.259  \n",
      "3593      12.411111              0.782478         9.765  \n",
      "----------------------------------------------\n",
      "    store type  department        date  weekly_sales  is_holiday  \\\n",
      "0       1    A           1  2010-02-05      24924.50       False   \n",
      "12      1    A           2  2010-02-05      50605.27       False   \n",
      "24      1    A           3  2010-02-05      13740.12       False   \n",
      "36      1    A           4  2010-02-05      39954.04       False   \n",
      "48      1    A           5  2010-02-05      32229.38       False   \n",
      "\n",
      "    temperature_c  fuel_price_usd_per_l  unemployment  \n",
      "0        5.727778              0.679451         8.106  \n",
      "12       5.727778              0.679451         8.106  \n",
      "24       5.727778              0.679451         8.106  \n",
      "36       5.727778              0.679451         8.106  \n",
      "48       5.727778              0.679451         8.106  \n",
      "----------------------------------------------\n",
      "498     2010-09-10\n",
      "691     2011-11-25\n",
      "2315    2010-02-12\n",
      "6735    2012-09-07\n",
      "6810    2010-12-31\n",
      "6815    2012-02-10\n",
      "6820    2011-09-09\n",
      "Name: date, dtype: object\n"
     ]
    }
   ],
   "source": [
    "import pandas as pd\n",
    "\n",
    "sales = pd.read_csv(\"datasets/sales.csv\", index_col=0)\n",
    "\n",
    "# Drop duplicate store/type combinations\n",
    "store_types = sales.drop_duplicates(subset = ['store','type'])\n",
    "print(store_types.head())\n",
    "print(\"----------------------------------------------\") \n",
    "\n",
    "# Drop duplicate store/department combinations\n",
    "store_depts = sales.drop_duplicates(subset = ['store','department'])\n",
    "print(store_depts.head())\n",
    "print(\"----------------------------------------------\") \n",
    "\n",
    "# Subset the rows where is_holiday is True and drop duplicate dates\n",
    "holiday_dates = sales[sales['is_holiday'] == True].drop_duplicates('date')\n",
    "\n",
    "# Print date col of holiday_dates\n",
    "print(holiday_dates['date'])"
   ]
  },
  {
   "cell_type": "markdown",
   "metadata": {},
   "source": [
    "## Counting categorical variables `value_counts(sort = True)`\n",
    "## Proportion `value_counts(normalize = True)`"
   ]
  },
  {
   "cell_type": "code",
   "execution_count": 21,
   "metadata": {},
   "outputs": [
    {
     "name": "stdout",
     "output_type": "stream",
     "text": [
      "type\n",
      "A    11\n",
      "B     1\n",
      "Name: count, dtype: int64\n",
      "type\n",
      "A    0.916667\n",
      "B    0.083333\n",
      "Name: proportion, dtype: float64\n",
      "department\n",
      "1     12\n",
      "55    12\n",
      "72    12\n",
      "71    12\n",
      "67    12\n",
      "      ..\n",
      "37    10\n",
      "48     8\n",
      "50     6\n",
      "39     4\n",
      "43     2\n",
      "Name: count, Length: 80, dtype: int64\n",
      "department\n",
      "1     0.012917\n",
      "55    0.012917\n",
      "72    0.012917\n",
      "71    0.012917\n",
      "67    0.012917\n",
      "        ...   \n",
      "37    0.010764\n",
      "48    0.008611\n",
      "50    0.006459\n",
      "39    0.004306\n",
      "43    0.002153\n",
      "Name: proportion, Length: 80, dtype: float64\n"
     ]
    }
   ],
   "source": [
    "import pandas as pd\n",
    "\n",
    "sales = pd.read_csv(\"datasets/sales.csv\", index_col=0)\n",
    "\n",
    "# Drop duplicate store/type combinations\n",
    "store_types = sales.drop_duplicates(subset = ['store','type'])\n",
    "\n",
    "# Drop duplicate store/department combinations\n",
    "store_depts = sales.drop_duplicates(subset = ['store','department'])\n",
    "\n",
    "# Count the number of stores of each type\n",
    "store_counts = store_types['type'].value_counts()\n",
    "print(store_counts)\n",
    "\n",
    "# Get the proportion of stores of each type\n",
    "store_props = store_types['type'].value_counts(normalize = True)\n",
    "print(store_props)\n",
    "\n",
    "# Count the number of each department number and sort\n",
    "dept_counts_sorted = store_depts['department'].value_counts(sort = True)\n",
    "print(dept_counts_sorted)\n",
    "\n",
    "# Get the proportion of departments of each number and sort\n",
    "dept_props_sorted = store_depts['department'].value_counts(sort=True, normalize=True)\n",
    "print(dept_props_sorted)\n",
    "\n"
   ]
  },
  {
   "cell_type": "markdown",
   "metadata": {},
   "source": [
    "## Grouping using `grouby()`"
   ]
  },
  {
   "cell_type": "code",
   "execution_count": 22,
   "metadata": {},
   "outputs": [
    {
     "name": "stdout",
     "output_type": "stream",
     "text": [
      "type\n",
      "A    0.909775\n",
      "B    0.090225\n",
      "Name: weekly_sales, dtype: float64\n",
      "----------------------------------------------\n",
      "type  is_holiday\n",
      "A     False         2.336927e+08\n",
      "      True          2.360181e+04\n",
      "B     False         2.317678e+07\n",
      "      True          1.621410e+03\n",
      "Name: weekly_sales, dtype: float64\n",
      "----------------------------------------------\n",
      "                       max      min          mean     median\n",
      "type is_holiday                                             \n",
      "A    False       293966.05 -1098.00  23768.583523  12028.955\n",
      "     True          5350.00  -598.00    590.045250     37.500\n",
      "B    False       232558.51  -798.00  25751.980533  13348.680\n",
      "     True          1590.00    31.41    810.705000    810.705\n",
      "----------------------------------------------\n"
     ]
    }
   ],
   "source": [
    "import pandas as pd\n",
    "\n",
    "sales = pd.read_csv(\"datasets/sales.csv\", index_col=0)\n",
    "\n",
    "# Group by type; calc total weekly sales\n",
    "sales_by_type = sales.groupby(\"type\")[\"weekly_sales\"].sum()\n",
    "\n",
    "\n",
    "# Get proportion for each type\n",
    "sales_propn_by_type = sales_by_type / sum(sales_by_type)\n",
    "print(sales_propn_by_type)\n",
    "print(\"----------------------------------------------\")\n",
    "\n",
    "# Group by type and is_holiday; calc total weekly sales\n",
    "sales_by_type_is_holiday = sales.groupby([\"type\",\"is_holiday\"])[\"weekly_sales\"].sum()\n",
    "print(sales_by_type_is_holiday)\n",
    "print(\"----------------------------------------------\")\n",
    "\n",
    "# Group by type and is_holiday; calc max, min, mean & median weekly sales\n",
    "sales_by_type_is_holiday_stat = sales.groupby([\"type\",\"is_holiday\"])[\"weekly_sales\"].agg(['max', 'min', 'mean', 'median'])\n",
    "print(sales_by_type_is_holiday_stat)\n",
    "print(\"----------------------------------------------\")\n"
   ]
  },
  {
   "cell_type": "markdown",
   "metadata": {},
   "source": [
    "## Pivot Tables"
   ]
  },
  {
   "cell_type": "code",
   "execution_count": 23,
   "metadata": {},
   "outputs": [
    {
     "name": "stdout",
     "output_type": "stream",
     "text": [
      "      weekly_sales\n",
      "type              \n",
      "A     23674.667242\n",
      "B     25696.678370\n",
      "----------------------------------------------\n",
      "              mean       median\n",
      "      weekly_sales weekly_sales\n",
      "type                           \n",
      "A     23674.667242     11943.92\n",
      "B     25696.678370     13336.08\n",
      "----------------------------------------------\n",
      "is_holiday         False      True \n",
      "type                               \n",
      "A           23768.583523  590.04525\n",
      "B           25751.980533  810.70500\n",
      "----------------------------------------------\n",
      "department            1              2             3             4   \\\n",
      "type                                                                  \n",
      "A           30961.725379   67600.158788  17160.002955  44285.399091   \n",
      "B           44050.626667  112958.526667  30580.655000  51219.654167   \n",
      "\n",
      "department            5             6             7             8   \\\n",
      "type                                                                 \n",
      "A           34821.011364   7136.292652  38454.336818  48583.475303   \n",
      "B           63236.875000  10717.297500  52909.653333  90733.753333   \n",
      "\n",
      "department            9             10  ...            90            91  \\\n",
      "type                                    ...                               \n",
      "A           30120.449924  30930.456364  ...  85776.905909  70423.165227   \n",
      "B           66679.301667  48595.126667  ...  14780.210000  13199.602500   \n",
      "\n",
      "department             92            93            94             95  \\\n",
      "type                                                                   \n",
      "A           139722.204773  53413.633939  60081.155303  123933.787121   \n",
      "B            50859.278333   1466.274167    161.445833   77082.102500   \n",
      "\n",
      "department            96            97            98          99  \n",
      "type                                                              \n",
      "A           21367.042857  28471.266970  12875.423182  379.123659  \n",
      "B            9528.538333   5828.873333    217.428333    0.000000  \n",
      "\n",
      "[2 rows x 80 columns]\n",
      "----------------------------------------------\n",
      "department             1              2             3             4  \\\n",
      "type                                                                  \n",
      "A           30961.725379   67600.158788  17160.002955  44285.399091   \n",
      "B           44050.626667  112958.526667  30580.655000  51219.654167   \n",
      "All         32052.467153   71380.022778  18278.390625  44863.253681   \n",
      "\n",
      "department             5             6             7             8  \\\n",
      "type                                                                 \n",
      "A           34821.011364   7136.292652  38454.336818  48583.475303   \n",
      "B           63236.875000  10717.297500  52909.653333  90733.753333   \n",
      "All         37189.000000   7434.709722  39658.946528  52095.998472   \n",
      "\n",
      "department             9            10  ...            91             92  \\\n",
      "type                                    ...                                \n",
      "A           30120.449924  30930.456364  ...  70423.165227  139722.204773   \n",
      "B           66679.301667  48595.126667  ...  13199.602500   50859.278333   \n",
      "All         33167.020903  32402.512222  ...  65654.535000  132316.960903   \n",
      "\n",
      "department            93            94             95            96  \\\n",
      "type                                                                  \n",
      "A           53413.633939  60081.155303  123933.787121  21367.042857   \n",
      "B            1466.274167    161.445833   77082.102500   9528.538333   \n",
      "All         49084.687292  55087.846181  120029.480069  20337.607681   \n",
      "\n",
      "department            97            98          99           All  \n",
      "type                                                              \n",
      "A           28471.266970  12875.423182  379.123659  23674.667242  \n",
      "B            5828.873333    217.428333    0.000000  25696.678370  \n",
      "All         26584.400833  11820.590278  379.123659  23843.950149  \n",
      "\n",
      "[3 rows x 81 columns]\n",
      "----------------------------------------------\n"
     ]
    }
   ],
   "source": [
    "import pandas as pd\n",
    "\n",
    "sales = pd.read_csv(\"datasets/sales.csv\", index_col=0)\n",
    "\n",
    "# Pivot for mean weekly_sales for each store type\n",
    "mean_sales_by_type = sales.pivot_table(values = 'weekly_sales', index = 'type')\n",
    "\n",
    "# Print mean_sales_by_type\n",
    "print(mean_sales_by_type)\n",
    "print(\"----------------------------------------------\")\n",
    "\n",
    "# Pivot for mean and median weekly_sales for each store type\n",
    "# Pivot for mean and median weekly_sales for each store type\n",
    "mean_med_sales_by_type = sales.pivot_table(values = 'weekly_sales', index = 'type', aggfunc = ['mean','median'])\n",
    "\n",
    "# Print mean_med_sales_by_type\n",
    "print(mean_med_sales_by_type)\n",
    "print(\"----------------------------------------------\")\n",
    "\n",
    "# Pivot for mean weekly_sales by store type and holiday \n",
    "mean_sales_by_type_holiday = sales.pivot_table(values = 'weekly_sales', index = 'type', columns = 'is_holiday', aggfunc = 'mean')\n",
    "\n",
    "# Print mean_sales_by_type_holiday\n",
    "print(mean_sales_by_type_holiday)\n",
    "print(\"----------------------------------------------\")\n",
    "\n",
    "\n",
    "# Print mean weekly_sales by department and type; fill missing values with 0\n",
    "print(sales.pivot_table(values='weekly_sales',index='type', columns='department', aggfunc = 'mean', fill_value = 0))\n",
    "print(\"----------------------------------------------\")\n",
    "\n",
    "# Print the mean weekly_sales by department and type; fill missing values with 0s; sum all rows and cols\n",
    "print(sales.pivot_table(values='weekly_sales',index='type', columns='department', aggfunc = 'mean', fill_value = 0, margins=True))\n",
    "print(\"----------------------------------------------\")"
   ]
  }
 ],
 "metadata": {
  "kernelspec": {
   "display_name": "Python 3 (ipykernel)",
   "language": "python",
   "name": "python3"
  },
  "language_info": {
   "codemirror_mode": {
    "name": "ipython",
    "version": 3
   },
   "file_extension": ".py",
   "mimetype": "text/x-python",
   "name": "python",
   "nbconvert_exporter": "python",
   "pygments_lexer": "ipython3",
   "version": "3.10.12"
  }
 },
 "nbformat": 4,
 "nbformat_minor": 4
}
