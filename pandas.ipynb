{
 "cells": [
  {
   "cell_type": "markdown",
   "metadata": {},
   "source": [
    "## Dictionary to DataFrame\n"
   ]
  },
  {
   "cell_type": "code",
   "execution_count": null,
   "metadata": {
    "ExecuteTime": {
     "end_time": "2023-09-06T11:38:19.937179400Z",
     "start_time": "2023-09-06T11:38:19.737421021Z"
    }
   },
   "outputs": [],
   "source": [
    "# Pre-defined lists\n",
    "names = [\"United States\", \"Australia\", \"Japan\", \"India\", \"Russia\", \"Morocco\", \"Egypt\"]\n",
    "dr = [True, False, False, False, True, True, True]\n",
    "cpc = [809, 731, 588, 18, 200, 70, 45]\n",
    "\n",
    "# Import pandas as pd\n",
    "import pandas as pd\n",
    "\n",
    "# Create dictionary my_dict with three key:value pairs: my_dict\n",
    "my_dict = {\"country\": names, \"drives_right\": dr, \"cars_per_cap\": cpc}\n",
    "\n",
    "# Build a DataFrame cars from my_dict: cars\n",
    "cars = pd.DataFrame(my_dict)\n",
    "\n",
    "# Definition of row_labels\n",
    "row_labels = [\"US\", \"AUS\", \"JPN\", \"IN\", \"RU\", \"MOR\", \"EG\"]\n",
    "\n",
    "# Specify row labels of cars\n",
    "cars.index = row_labels\n",
    "\n",
    "# Print cars\n",
    "print(cars)"
   ]
  },
  {
   "cell_type": "markdown",
   "metadata": {},
   "source": [
    "## CSV to DataFrame\n"
   ]
  },
  {
   "cell_type": "code",
   "execution_count": null,
   "metadata": {
    "ExecuteTime": {
     "end_time": "2023-09-06T11:38:19.948139740Z",
     "start_time": "2023-09-06T11:38:19.941132202Z"
    }
   },
   "outputs": [],
   "source": [
    "# Import pandas as pd\n",
    "import pandas as pd\n",
    "\n",
    "# Fix import by including index_col\n",
    "cars = pd.read_csv(\"datasets/cars.csv\")\n",
    "# Print out cars\n",
    "print(cars)\n",
    "print(\"----------------------------------------------\")\n",
    "# Specify the index_col argument inside pd.read_csv(): set it to 0, so that the first column is used as row labels.\n",
    "cars2 = pd.read_csv(\"datasets/cars.csv\", index_col=0)\n",
    "print(cars2)"
   ]
  },
  {
   "cell_type": "markdown",
   "metadata": {},
   "source": [
    "## Col access using brackets\n"
   ]
  },
  {
   "cell_type": "code",
   "execution_count": null,
   "metadata": {
    "ExecuteTime": {
     "end_time": "2023-09-06T11:38:20.018545975Z",
     "start_time": "2023-09-06T11:38:19.952031341Z"
    }
   },
   "outputs": [],
   "source": [
    "import pandas as pd\n",
    "\n",
    "cars = pd.read_csv(\"datasets/cars.csv\", index_col=0)\n",
    "\n",
    "print(cars)\n",
    "print(\"----------------------------------------------\")\n",
    "print(cars[[\"country\", \"drives_right\"]])\n",
    "print(\"----------------------------------------------\")\n",
    "print(cars[[\"country\"]])\n",
    "print(\"----------------------------------------------\")"
   ]
  },
  {
   "cell_type": "markdown",
   "metadata": {},
   "source": [
    "## Row access using brackets\n"
   ]
  },
  {
   "cell_type": "code",
   "execution_count": null,
   "metadata": {
    "ExecuteTime": {
     "end_time": "2023-09-06T11:38:20.019189969Z",
     "start_time": "2023-09-06T11:38:19.993409164Z"
    }
   },
   "outputs": [],
   "source": [
    "import pandas as pd\n",
    "\n",
    "cars = pd.read_csv(\"datasets/cars.csv\", index_col=0)\n",
    "\n",
    "print(cars)\n",
    "print(\"----------------------------------------------\")\n",
    "print(cars[1:4])\n",
    "print(\"----------------------------------------------\")"
   ]
  },
  {
   "cell_type": "markdown",
   "metadata": {},
   "source": [
    "## Rows & Cols access using loc & iloc\n",
    "\n",
    "`[Subsetting DataFrame]`\n"
   ]
  },
  {
   "cell_type": "code",
   "execution_count": null,
   "metadata": {
    "ExecuteTime": {
     "end_time": "2023-09-06T11:38:20.066376780Z",
     "start_time": "2023-09-06T11:38:19.993683385Z"
    }
   },
   "outputs": [],
   "source": [
    "import pandas as pd\n",
    "\n",
    "cars = pd.read_csv(\"datasets/cars.csv\", index_col=0)\n",
    "\n",
    "print(cars)\n",
    "print(\"----------------------------------------------\")\n",
    "\n",
    "\n",
    "# Access row by label\n",
    "print(cars.loc[[\"RU\"]])\n",
    "print(\"----------------------------------------------\")\n",
    "print(cars.iloc[[4]])\n",
    "print(\"----------------------------------------------\")\n",
    "\n",
    "# print as series\n",
    "print(cars.loc[\"RU\"])\n",
    "print(\"----------------------------------------------\")\n",
    "\n",
    "# print as dataframe\n",
    "print(cars.loc[[\"RU\"]])\n",
    "print(\"----------------------------------------------\")\n",
    "\n",
    "\n",
    "# Access multiple rows by label\n",
    "print(cars.loc[[\"RU\", \"IN\", \"EG\"]])\n",
    "print(\"----------------------------------------------\")\n",
    "print(cars.iloc[[4, 3, 6]])\n",
    "print(\"----------------------------------------------\")\n",
    "\n",
    "\n",
    "# Access row and column by label\n",
    "print(cars.loc[[\"RU\", \"IN\", \"EG\"], [\"country\", \"drives_right\"]])\n",
    "print(\"----------------------------------------------\")\n",
    "print(cars.iloc[[4, 3, 6], [1, 2]])\n",
    "print(\"----------------------------------------------\")\n",
    "\n",
    "\n",
    "# All rows, some columns\n",
    "print(cars.loc[:, [\"country\", \"drives_right\"]])\n",
    "print(\"----------------------------------------------\")\n",
    "print(cars.iloc[:, [1, 2]])\n",
    "print(\"----------------------------------------------\")\n",
    "\n",
    "\n",
    "# specific cell\n",
    "print(cars.loc[[\"RU\"], [\"country\"]])\n",
    "print(\"----------------------------------------------\")\n",
    "\n",
    "# Sub-dataframe\n",
    "print(cars.loc[[\"RU\", \"IN\", \"EG\"], [\"country\", \"drives_right\"]])\n",
    "print(\"----------------------------------------------\")"
   ]
  },
  {
   "cell_type": "markdown",
   "metadata": {},
   "source": [
    "## Filtering from dataframe based on a condition\n"
   ]
  },
  {
   "cell_type": "code",
   "execution_count": null,
   "metadata": {
    "ExecuteTime": {
     "end_time": "2023-09-06T11:38:20.066797563Z",
     "start_time": "2023-09-06T11:38:20.037292383Z"
    }
   },
   "outputs": [],
   "source": [
    "# Import cars data\n",
    "import pandas as pd\n",
    "\n",
    "cars = pd.read_csv(\"datasets/cars.csv\", index_col=0)\n",
    "\n",
    "# Extract drives_right column as Series: dr\n",
    "dr = cars[\"drives_right\"]\n",
    "print(dr)\n",
    "print(\"----------------------------------------------\")\n",
    "\n",
    "# Use dr to subset cars: sel\n",
    "sel = dr == True\n",
    "\n",
    "# Print sel\n",
    "print(cars[sel])"
   ]
  },
  {
   "cell_type": "code",
   "execution_count": null,
   "metadata": {},
   "outputs": [],
   "source": [
    "# Import cars data\n",
    "import pandas as pd\n",
    "\n",
    "cars = pd.read_csv(\"datasets/cars.csv\", index_col=0)\n",
    "\n",
    "# Create car_maniac: observations that have a cars_per_cap over 500\n",
    "cpc = cars[\"cars_per_cap\"]\n",
    "many_cars = cpc > 500\n",
    "car_maniac = cars[many_cars]\n",
    "\n",
    "# Print car_maniac\n",
    "print(car_maniac)"
   ]
  },
  {
   "cell_type": "code",
   "execution_count": null,
   "metadata": {},
   "outputs": [],
   "source": [
    "# Import cars data\n",
    "import pandas as pd\n",
    "\n",
    "cars = pd.read_csv(\"datasets/cars.csv\", index_col=0)\n",
    "\n",
    "# Import numpy, you'll need this\n",
    "import numpy as np\n",
    "\n",
    "# Create medium: observations with cars_per_cap between 100 and 500\n",
    "cpc = cars[\"cars_per_cap\"]\n",
    "between = np.logical_and(cpc > 100, cpc < 500)\n",
    "medium = cars[between]\n",
    "\n",
    "# Print medium\n",
    "print(medium)"
   ]
  },
  {
   "cell_type": "markdown",
   "metadata": {},
   "source": [
    "## Iterate over a dataframe\n"
   ]
  },
  {
   "cell_type": "code",
   "execution_count": null,
   "metadata": {},
   "outputs": [],
   "source": [
    "# Import cars data\n",
    "import pandas as pd\n",
    "\n",
    "cars = pd.read_csv(\"datasets/cars.csv\", index_col=0)\n",
    "\n",
    "# Iterate over rows of cars\n",
    "for label, row in cars.iterrows():\n",
    "    print(label)\n",
    "    print(row)"
   ]
  },
  {
   "cell_type": "code",
   "execution_count": null,
   "metadata": {},
   "outputs": [],
   "source": [
    "# Import cars data\n",
    "import pandas as pd\n",
    "\n",
    "cars = pd.read_csv(\"datasets/cars.csv\", index_col=0)\n",
    "\n",
    "# Adapt for loop\n",
    "for lab, row in cars.iterrows():\n",
    "    print(f\"{lab}: {row['cars_per_cap']}\")"
   ]
  },
  {
   "cell_type": "markdown",
   "metadata": {},
   "source": [
    "## Add column using `loc`\n"
   ]
  },
  {
   "cell_type": "code",
   "execution_count": null,
   "metadata": {},
   "outputs": [],
   "source": [
    "# Import cars data\n",
    "import pandas as pd\n",
    "\n",
    "cars = pd.read_csv(\"datasets/cars.csv\", index_col=0)\n",
    "print(cars)\n",
    "print(\"----------------------------------------------\")\n",
    "# Code for loop that adds COUNTRY column\n",
    "for label, row in cars.iterrows():\n",
    "    cars.loc[label, \"COUNTRY\"] = row[\"country\"].upper()\n",
    "\n",
    "# Print cars\n",
    "print(cars)"
   ]
  },
  {
   "cell_type": "markdown",
   "metadata": {},
   "source": [
    "## Add column using `apply()`\n"
   ]
  },
  {
   "cell_type": "code",
   "execution_count": null,
   "metadata": {},
   "outputs": [],
   "source": [
    "# Import cars data\n",
    "import pandas as pd\n",
    "\n",
    "cars = pd.read_csv(\"datasets/cars.csv\", index_col=0)\n",
    "print(cars)\n",
    "print(\"----------------------------------------------\")\n",
    "# Use .apply(str.upper) beacuse .upper() is a method\n",
    "cars[\"COUNTRY\"] = cars[\"country\"].apply(str.upper)\n",
    "# use .apply(len) because len() is a function\n",
    "cars[\"country length\"] = cars[\"country\"].apply(len)\n",
    "\n",
    "print(cars)"
   ]
  }
 ],
 "metadata": {
  "kernelspec": {
   "display_name": "Python 3 (ipykernel)",
   "language": "python",
   "name": "python3"
  },
  "language_info": {
   "codemirror_mode": {
    "name": "ipython",
    "version": 3
   },
   "file_extension": ".py",
   "mimetype": "text/x-python",
   "name": "python",
   "nbconvert_exporter": "python",
   "pygments_lexer": "ipython3",
   "version": "3.10.12"
  }
 },
 "nbformat": 4,
 "nbformat_minor": 4
}
