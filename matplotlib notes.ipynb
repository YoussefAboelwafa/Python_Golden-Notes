{
 "cells": [
  {
   "cell_type": "markdown",
   "id": "e5e0683d646d599f",
   "metadata": {
    "collapsed": false
   },
   "source": [
    "# Line Plot\n",
    "\n",
    "### Notes\n",
    "\n",
    "`plt.clf()` to clear\n"
   ]
  },
  {
   "cell_type": "code",
   "execution_count": null,
   "id": "dd6b3f3593f20982",
   "metadata": {
    "ExecuteTime": {
     "end_time": "2023-09-05T06:23:41.742166812Z",
     "start_time": "2023-09-05T06:23:41.243301839Z"
    },
    "collapsed": false
   },
   "outputs": [],
   "source": [
    "import matplotlib.pyplot as plt\n",
    "\n",
    "year = [2000, 2010, 2020, 2030, 2040]\n",
    "pop = [2000, 4000, 1000, 3000, 5000]\n",
    "\n",
    "# Make a line plot: year on the x-axis, pop on the y-axis\n",
    "plt.plot(year, pop)\n",
    "\n",
    "# Customization\n",
    "# ---------------------------------------------\n",
    "\n",
    "plt.xlabel(\"Year\")\n",
    "plt.ylabel(\"Population\")\n",
    "plt.title(\"World Population Projections\")\n",
    "plt.yticks([0, 1000, 2000, 3000, 4000, 5000, 6000],[0,'1k','2k','3k','4k','5k','6k'])\n",
    "plt.text(2010,50,\"Text\")\n",
    "plt.grid(True)\n",
    "plt.xlim(2000,None)\n",
    "# ---------------------------------------------\n",
    "\n",
    "# Display the plot with plt.show()\n",
    "plt.show()"
   ]
  },
  {
   "cell_type": "markdown",
   "id": "f388cadb",
   "metadata": {},
   "source": [
    "# Scatter Plot\n"
   ]
  },
  {
   "cell_type": "markdown",
   "id": "143606bb",
   "metadata": {
    "collapsed": false
   },
   "source": [
    "### Note\n",
    "\n",
    "Use log scale\n",
    "\n",
    "`plt.xscale('log')`\n"
   ]
  },
  {
   "cell_type": "code",
   "execution_count": null,
   "id": "1021a25c",
   "metadata": {
    "ExecuteTime": {
     "end_time": "2023-09-05T06:23:41.896287429Z",
     "start_time": "2023-09-05T06:23:41.757219420Z"
    },
    "collapsed": false
   },
   "outputs": [],
   "source": [
    "import matplotlib.pyplot as plt\n",
    "\n",
    "year = [2000, 2010, 2020, 2030, 2040]\n",
    "pop = [20, 40, 10, 30, 50]\n",
    "\n",
    "# Make a line plot: year on the x-axis, pop on the y-axis\n",
    "plt.scatter(year, pop, color=\"red\", marker=\"x\")\n",
    "\n",
    "# Display the plot with plt.show()\n",
    "plt.show()"
   ]
  },
  {
   "cell_type": "markdown",
   "id": "af11eda4",
   "metadata": {},
   "source": [
    "# Histogram\n",
    "\n",
    "`plt.hist(list,bins)`\n",
    "\n",
    "bins = 10 by default\n"
   ]
  },
  {
   "cell_type": "code",
   "execution_count": null,
   "id": "9a583958",
   "metadata": {
    "ExecuteTime": {
     "end_time": "2023-09-05T06:23:41.896720285Z",
     "start_time": "2023-09-05T06:23:41.870852278Z"
    }
   },
   "outputs": [],
   "source": [
    "import matplotlib.pyplot as plt\n",
    "\n",
    "x = [\n",
    "    43.828,\n",
    "    76.423,\n",
    "    72.301,\n",
    "    42.731,\n",
    "    75.32,\n",
    "    81.235,\n",
    "    79.829,\n",
    "    75.635,\n",
    "    64.062,\n",
    "    79.441,\n",
    "    56.728,\n",
    "    65.554,\n",
    "    74.852,\n",
    "    50.728,\n",
    "    72.39,\n",
    "    73.005,\n",
    "    52.295,\n",
    "    49.58,\n",
    "    59.723,\n",
    "    50.43,\n",
    "    80.653,\n",
    "    50.651,\n",
    "    78.553,\n",
    "    72.961,\n",
    "    72.889,\n",
    "    65.152,\n",
    "    46.462,\n",
    "\n",
    "]\n",
    "plt.hist(x, bins=6, color=\"red\", edgecolor=\"black\", linewidth=2)\n",
    "plt.show()"
   ]
  }
 ],
 "metadata": {
  "kernelspec": {
   "display_name": "Python 3",
   "language": "python",
   "name": "python3"
  },
  "language_info": {
   "codemirror_mode": {
    "name": "ipython",
    "version": 3
   },
   "file_extension": ".py",
   "mimetype": "text/x-python",
   "name": "python",
   "nbconvert_exporter": "python",
   "pygments_lexer": "ipython3",
   "version": "3.11.0"
  }
 },
 "nbformat": 4,
 "nbformat_minor": 5
}
