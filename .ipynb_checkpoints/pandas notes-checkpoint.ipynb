{
 "cells": [
  {
   "cell_type": "markdown",
   "metadata": {},
   "source": [
    "# Dictionary to DataFrame\n"
   ]
  },
  {
   "cell_type": "code",
   "execution_count": 1,
   "metadata": {
    "ExecuteTime": {
     "end_time": "2023-09-06T11:38:19.937179400Z",
     "start_time": "2023-09-06T11:38:19.737421021Z"
    }
   },
   "outputs": [
    {
     "name": "stdout",
     "output_type": "stream",
     "text": [
      "           country  drives_right  cars_per_cap\n",
      "US   United States          True           809\n",
      "AUS      Australia         False           731\n",
      "JPN          Japan         False           588\n",
      "IN           India         False            18\n",
      "RU          Russia          True           200\n",
      "MOR        Morocco          True            70\n",
      "EG           Egypt          True            45\n"
     ]
    }
   ],
   "source": [
    "# Pre-defined lists\n",
    "names = [\"United States\", \"Australia\", \"Japan\", \"India\", \"Russia\", \"Morocco\", \"Egypt\"]\n",
    "dr = [True, False, False, False, True, True, True]\n",
    "cpc = [809, 731, 588, 18, 200, 70, 45]\n",
    "\n",
    "# Import pandas as pd\n",
    "import pandas as pd\n",
    "\n",
    "# Create dictionary my_dict with three key:value pairs: my_dict\n",
    "my_dict = {\"country\": names, \"drives_right\": dr, \"cars_per_cap\": cpc}\n",
    "\n",
    "# Build a DataFrame cars from my_dict: cars\n",
    "cars = pd.DataFrame(my_dict)\n",
    "\n",
    "# Definition of row_labels\n",
    "row_labels = [\"US\", \"AUS\", \"JPN\", \"IN\", \"RU\", \"MOR\", \"EG\"]\n",
    "\n",
    "# Specify row labels of cars\n",
    "cars.index = row_labels\n",
    "\n",
    "# Print cars\n",
    "print(cars)"
   ]
  },
  {
   "cell_type": "markdown",
   "metadata": {},
   "source": [
    "# CSV to DataFrame\n"
   ]
  },
  {
   "cell_type": "code",
   "execution_count": 2,
   "metadata": {
    "ExecuteTime": {
     "end_time": "2023-09-06T11:38:19.948139740Z",
     "start_time": "2023-09-06T11:38:19.941132202Z"
    }
   },
   "outputs": [
    {
     "name": "stdout",
     "output_type": "stream",
     "text": [
      "  Unnamed: 0  cars_per_cap       country  drives_right\n",
      "0         US           809  UnitedStates          True\n",
      "1        AUS           731     Australia         False\n",
      "2        JPN           588         Japan         False\n",
      "3         IN            18         India         False\n",
      "4         RU           200        Russia          True\n",
      "5        MOR            70       Morocco          True\n",
      "6         EG            45         Egypt          True\n",
      "----------------------------------------------\n",
      "     cars_per_cap       country  drives_right\n",
      "US            809  UnitedStates          True\n",
      "AUS           731     Australia         False\n",
      "JPN           588         Japan         False\n",
      "IN             18         India         False\n",
      "RU            200        Russia          True\n",
      "MOR            70       Morocco          True\n",
      "EG             45         Egypt          True\n"
     ]
    }
   ],
   "source": [
    "# Import pandas as pd\n",
    "import pandas as pd\n",
    "\n",
    "# Fix import by including index_col\n",
    "brics = pd.read_csv(\"datasets/brics.csv\")\n",
    "# Print out cars\n",
    "print(brics)\n",
    "print(\"----------------------------------------------\")\n",
    "# Specify the index_col argument inside pd.read_csv(): set it to 0, so that the first column is used as row labels.\n",
    "brics2 = pd.read_csv(\"datasets/brics.csv\", index_col=0)\n",
    "print(brics2)"
   ]
  },
  {
   "cell_type": "markdown",
   "metadata": {},
   "source": [
    "# Col access using brackets\n"
   ]
  },
  {
   "cell_type": "code",
   "execution_count": 3,
   "metadata": {
    "ExecuteTime": {
     "end_time": "2023-09-06T11:38:20.018545975Z",
     "start_time": "2023-09-06T11:38:19.952031341Z"
    }
   },
   "outputs": [
    {
     "name": "stdout",
     "output_type": "stream",
     "text": [
      "     cars_per_cap       country  drives_right\n",
      "US            809  UnitedStates          True\n",
      "AUS           731     Australia         False\n",
      "JPN           588         Japan         False\n",
      "IN             18         India         False\n",
      "RU            200        Russia          True\n",
      "MOR            70       Morocco          True\n",
      "EG             45         Egypt          True\n",
      "----------------------------------------------\n",
      "          country  drives_right\n",
      "US   UnitedStates          True\n",
      "AUS     Australia         False\n",
      "JPN         Japan         False\n",
      "IN          India         False\n",
      "RU         Russia          True\n",
      "MOR       Morocco          True\n",
      "EG          Egypt          True\n",
      "----------------------------------------------\n",
      "          country\n",
      "US   UnitedStates\n",
      "AUS     Australia\n",
      "JPN         Japan\n",
      "IN          India\n",
      "RU         Russia\n",
      "MOR       Morocco\n",
      "EG          Egypt\n",
      "----------------------------------------------\n"
     ]
    }
   ],
   "source": [
    "import pandas as pd\n",
    "\n",
    "brics = pd.read_csv(\"datasets/brics.csv\", index_col=0)\n",
    "\n",
    "print(brics)\n",
    "print(\"----------------------------------------------\")\n",
    "print(brics[[\"country\", \"drives_right\"]])\n",
    "print(\"----------------------------------------------\")\n",
    "print(brics[[\"country\"]])\n",
    "print(\"----------------------------------------------\")"
   ]
  },
  {
   "cell_type": "markdown",
   "metadata": {},
   "source": [
    "# Row access using brackets\n"
   ]
  },
  {
   "cell_type": "code",
   "execution_count": 4,
   "metadata": {
    "ExecuteTime": {
     "end_time": "2023-09-06T11:38:20.019189969Z",
     "start_time": "2023-09-06T11:38:19.993409164Z"
    }
   },
   "outputs": [
    {
     "name": "stdout",
     "output_type": "stream",
     "text": [
      "     cars_per_cap       country  drives_right\n",
      "US            809  UnitedStates          True\n",
      "AUS           731     Australia         False\n",
      "JPN           588         Japan         False\n",
      "IN             18         India         False\n",
      "RU            200        Russia          True\n",
      "MOR            70       Morocco          True\n",
      "EG             45         Egypt          True\n",
      "----------------------------------------------\n",
      "     cars_per_cap    country  drives_right\n",
      "AUS           731  Australia         False\n",
      "JPN           588      Japan         False\n",
      "IN             18      India         False\n",
      "----------------------------------------------\n"
     ]
    }
   ],
   "source": [
    "import pandas as pd\n",
    "\n",
    "brics = pd.read_csv(\"datasets/brics.csv\", index_col=0)\n",
    "\n",
    "print(brics)\n",
    "print(\"----------------------------------------------\")\n",
    "print(brics[1:4])\n",
    "print(\"----------------------------------------------\")"
   ]
  },
  {
   "cell_type": "markdown",
   "metadata": {},
   "source": [
    "# Rows & Cols access using loc & iloc\n",
    "```[Subsetting DataFrame]```\n"
   ]
  },
  {
   "cell_type": "code",
   "execution_count": 5,
   "metadata": {
    "ExecuteTime": {
     "end_time": "2023-09-06T11:38:20.066376780Z",
     "start_time": "2023-09-06T11:38:19.993683385Z"
    }
   },
   "outputs": [
    {
     "name": "stdout",
     "output_type": "stream",
     "text": [
      "     cars_per_cap       country  drives_right\n",
      "US            809  UnitedStates          True\n",
      "AUS           731     Australia         False\n",
      "JPN           588         Japan         False\n",
      "IN             18         India         False\n",
      "RU            200        Russia          True\n",
      "MOR            70       Morocco          True\n",
      "EG             45         Egypt          True\n",
      "----------------------------------------------\n",
      "    cars_per_cap country  drives_right\n",
      "RU           200  Russia          True\n",
      "----------------------------------------------\n",
      "    cars_per_cap country  drives_right\n",
      "RU           200  Russia          True\n",
      "----------------------------------------------\n",
      "    cars_per_cap country  drives_right\n",
      "RU           200  Russia          True\n",
      "IN            18   India         False\n",
      "EG            45   Egypt          True\n",
      "----------------------------------------------\n",
      "    cars_per_cap country  drives_right\n",
      "RU           200  Russia          True\n",
      "IN            18   India         False\n",
      "EG            45   Egypt          True\n",
      "----------------------------------------------\n",
      "   country  drives_right\n",
      "RU  Russia          True\n",
      "IN   India         False\n",
      "EG   Egypt          True\n",
      "----------------------------------------------\n",
      "   country  drives_right\n",
      "RU  Russia          True\n",
      "IN   India         False\n",
      "EG   Egypt          True\n",
      "----------------------------------------------\n",
      "          country  drives_right\n",
      "US   UnitedStates          True\n",
      "AUS     Australia         False\n",
      "JPN         Japan         False\n",
      "IN          India         False\n",
      "RU         Russia          True\n",
      "MOR       Morocco          True\n",
      "EG          Egypt          True\n",
      "----------------------------------------------\n",
      "          country  drives_right\n",
      "US   UnitedStates          True\n",
      "AUS     Australia         False\n",
      "JPN         Japan         False\n",
      "IN          India         False\n",
      "RU         Russia          True\n",
      "MOR       Morocco          True\n",
      "EG          Egypt          True\n",
      "----------------------------------------------\n"
     ]
    }
   ],
   "source": [
    "import pandas as pd\n",
    "\n",
    "brics = pd.read_csv(\"datasets/brics.csv\", index_col=0)\n",
    "\n",
    "print(brics)\n",
    "print(\"----------------------------------------------\")\n",
    "\n",
    "\n",
    "# Access row by label\n",
    "print(brics.loc[[\"RU\"]])\n",
    "print(\"----------------------------------------------\")\n",
    "print(brics.iloc[[4]])\n",
    "print(\"----------------------------------------------\")\n",
    "\n",
    "\n",
    "# Access multiple rows by label\n",
    "print(brics.loc[[\"RU\", \"IN\", \"EG\"]])\n",
    "print(\"----------------------------------------------\")\n",
    "print(brics.iloc[[4, 3, 6]])\n",
    "print(\"----------------------------------------------\")\n",
    "\n",
    "\n",
    "# Access row and column by label\n",
    "print(brics.loc[[\"RU\", \"IN\", \"EG\"], [\"country\", \"drives_right\"]])\n",
    "print(\"----------------------------------------------\")\n",
    "print(brics.iloc[[4, 3, 6], [1, 2]])\n",
    "print(\"----------------------------------------------\")\n",
    "\n",
    "\n",
    "# All rows, some columns\n",
    "print(brics.loc[:, [\"country\", \"drives_right\"]])\n",
    "print(\"----------------------------------------------\")\n",
    "print(brics.iloc[:, [1, 2]])\n",
    "print(\"----------------------------------------------\")"
   ]
  },
  {
   "cell_type": "markdown",
   "metadata": {},
   "source": []
  },
  {
   "cell_type": "code",
   "execution_count": 5,
   "metadata": {
    "ExecuteTime": {
     "end_time": "2023-09-06T11:38:20.066797563Z",
     "start_time": "2023-09-06T11:38:20.037292383Z"
    }
   },
   "outputs": [],
   "source": []
  }
 ],
 "metadata": {
  "kernelspec": {
   "display_name": "Python 3 (ipykernel)",
   "language": "python",
   "name": "python3"
  },
  "language_info": {
   "codemirror_mode": {
    "name": "ipython",
    "version": 3
   },
   "file_extension": ".py",
   "mimetype": "text/x-python",
   "name": "python",
   "nbconvert_exporter": "python",
   "pygments_lexer": "ipython3",
   "version": "3.10.12"
  }
 },
 "nbformat": 4,
 "nbformat_minor": 4
}
