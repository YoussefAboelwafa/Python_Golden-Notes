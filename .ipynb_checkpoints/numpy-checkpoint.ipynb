{
 "cells": [
  {
   "cell_type": "markdown",
   "id": "af4517680fddc134",
   "metadata": {
    "collapsed": false
   },
   "source": [
    "## np array boolean"
   ]
  },
  {
   "cell_type": "code",
   "execution_count": 1,
   "id": "4d8f5703ba0b2abd",
   "metadata": {
    "collapsed": false,
    "ExecuteTime": {
     "end_time": "2023-09-07T12:28:42.035137020Z",
     "start_time": "2023-09-07T12:28:41.905303590Z"
    }
   },
   "outputs": [
    {
     "name": "stdout",
     "output_type": "stream",
     "text": [
      "[ True False False False  True False False False False False]\n",
      "[23.11037639 24.80333518]\n"
     ]
    }
   ],
   "source": [
    "# Import numpy\n",
    "import numpy as np\n",
    "\n",
    "# Calculate the BMI: bmi\n",
    "height_in = [74, 74, 72, 72, 73, 69, 69, 71, 76, 71]\n",
    "weight_lb = [180, 215, 210, 210, 188, 176, 209, 200, 231, 180]\n",
    "\n",
    "np_height_m = np.array(height_in) * 0.0254\n",
    "np_weight_kg = np.array(weight_lb) * 0.453592\n",
    "bmi = np_weight_kg / (np_height_m**2)\n",
    "\n",
    "# Create the light array (boolean array)\n",
    "light = bmi < 25\n",
    "print(light)\n",
    "# BMIs of all baseball players whose BMI is below 21\n",
    "print(bmi[light])"
   ]
  },
  {
   "cell_type": "code",
   "execution_count": 2,
   "id": "07dbacf4",
   "metadata": {
    "ExecuteTime": {
     "end_time": "2023-09-07T12:28:42.044137957Z",
     "start_time": "2023-09-07T12:28:42.036858521Z"
    }
   },
   "outputs": [
    {
     "name": "stdout",
     "output_type": "stream",
     "text": [
      "[ True  True False False]\n",
      "[False  True  True False]\n"
     ]
    }
   ],
   "source": [
    "import numpy as np\n",
    "\n",
    "my_house = np.array([18.0, 20.0, 10.75, 9.50])\n",
    "your_house = np.array([14.0, 24.0, 14.25, 9.0])\n",
    "\n",
    "# my_house greater than or equal to 18\n",
    "print(my_house>=18)\n",
    "\n",
    "# my_house less than your_house\n",
    "print(my_house<your_house)"
   ]
  },
  {
   "cell_type": "markdown",
   "id": "77dafeab",
   "metadata": {},
   "source": [
    "## Logical operators\n",
    "```np.logical_and()```\n",
    "\n",
    "```np.logical_or()```\n",
    "\n",
    "```np.logical_not()```"
   ]
  },
  {
   "cell_type": "code",
   "execution_count": 3,
   "id": "e708ff42",
   "metadata": {
    "ExecuteTime": {
     "end_time": "2023-09-07T12:28:42.046061119Z",
     "start_time": "2023-09-07T12:28:42.042217971Z"
    }
   },
   "outputs": [
    {
     "name": "stdout",
     "output_type": "stream",
     "text": [
      "[False  True False  True]\n",
      "[False False False  True]\n"
     ]
    }
   ],
   "source": [
    "# Create arrays\n",
    "import numpy as np\n",
    "my_house = np.array([18.0, 20.0, 10.75, 9.50])\n",
    "your_house = np.array([14.0, 24.0, 14.25, 9.0])\n",
    "\n",
    "# my_house greater than 18.5 or smaller than 10\n",
    "print(np.logical_or(my_house>18.5,my_house<10))\n",
    "\n",
    "# Both my_house and your_house smaller than 11\n",
    "print(np.logical_and(my_house<11,your_house<11))"
   ]
  },
  {
   "cell_type": "markdown",
   "id": "48794a357b871e21",
   "metadata": {
    "collapsed": false
   },
   "source": [
    "## Know the number of rows and cols of np array\n"
   ]
  },
  {
   "cell_type": "code",
   "execution_count": 4,
   "id": "52d89831a8905d86",
   "metadata": {
    "collapsed": false,
    "ExecuteTime": {
     "end_time": "2023-09-07T12:28:42.054654118Z",
     "start_time": "2023-09-07T12:28:42.047393385Z"
    }
   },
   "outputs": [
    {
     "name": "stdout",
     "output_type": "stream",
     "text": [
      "<class 'numpy.ndarray'>\n",
      "(4, 2)\n"
     ]
    }
   ],
   "source": [
    "baseball = [[180, 78.4], [215, 102.7], [210, 98.5], [188, 75.2]]\n",
    "\n",
    "# Create a 2D numpy array from baseball: np_baseball\n",
    "np_baseball = np.array(baseball)\n",
    "\n",
    "# Print out the type of np_baseball\n",
    "print(type(np_baseball))\n",
    "\n",
    "# Print out the shape of np_baseball\n",
    "print(np_baseball.shape)"
   ]
  },
  {
   "cell_type": "markdown",
   "id": "d894fdc2f9569116",
   "metadata": {
    "collapsed": false
   },
   "source": [
    "## 2D Arithmetic\n"
   ]
  },
  {
   "cell_type": "code",
   "execution_count": 5,
   "id": "bb085a737de704c5",
   "metadata": {
    "collapsed": false,
    "ExecuteTime": {
     "end_time": "2023-09-07T12:28:42.151183062Z",
     "start_time": "2023-09-07T12:28:42.052277886Z"
    }
   },
   "outputs": [
    {
     "name": "stdout",
     "output_type": "stream",
     "text": [
      "[[ 2  6]\n",
      " [ 6 12]\n",
      " [10 18]]\n"
     ]
    }
   ],
   "source": [
    "# Import numpy package\n",
    "import numpy as np\n",
    "\n",
    "np_mat = np.array([[1, 2], [3, 4], [5, 6]])\n",
    "\n",
    "# Create numpy array: conversion\n",
    "# Multiply the first col by 2 & the second col by 3\n",
    "conversion = np.array([2, 3])\n",
    "\n",
    "# Print out product of np_baseball and conversion\n",
    "print(np_mat * conversion)"
   ]
  },
  {
   "cell_type": "markdown",
   "id": "7bba23cb2479ceff",
   "metadata": {
    "collapsed": false
   },
   "source": [
    "## Filtering np array\n"
   ]
  },
  {
   "cell_type": "code",
   "execution_count": 6,
   "id": "48371963d5e3c194",
   "metadata": {
    "collapsed": false,
    "ExecuteTime": {
     "end_time": "2023-09-07T12:28:42.154581025Z",
     "start_time": "2023-09-07T12:28:42.056542534Z"
    }
   },
   "outputs": [
    {
     "name": "stdout",
     "output_type": "stream",
     "text": [
      "Median height of goalkeepers: 191.0\n",
      "Median height of other players: 184.0\n"
     ]
    }
   ],
   "source": [
    "import numpy as np\n",
    "\n",
    "positions = [\"GK\", \"M\", \"A\", \"D\"]\n",
    "heights = [191, 184, 185, 180]\n",
    "# Convert positions and heights to numpy arrays: np_positions, np_heights\n",
    "np_positions = np.array(positions)\n",
    "np_heights = np.array(heights)\n",
    "\n",
    "# Heights of the goalkeepers: gk_heights\n",
    "gk_heights = np_heights[np_positions == \"GK\"]\n",
    "\n",
    "# Heights of the other players: other_heights\n",
    "other_heights = np_heights[np_positions != \"GK\"]\n",
    "\n",
    "# Print out the median height of goalkeepers\n",
    "print(\"Median height of goalkeepers: \" + str(np.median(gk_heights)))\n",
    "\n",
    "# Print out the median height of other players\n",
    "print(\"Median height of other players: \" + str(np.median(other_heights)))"
   ]
  }
 ],
 "metadata": {
  "kernelspec": {
   "display_name": "Python 3 (ipykernel)",
   "language": "python",
   "name": "python3"
  },
  "language_info": {
   "codemirror_mode": {
    "name": "ipython",
    "version": 3
   },
   "file_extension": ".py",
   "mimetype": "text/x-python",
   "name": "python",
   "nbconvert_exporter": "python",
   "pygments_lexer": "ipython3",
   "version": "3.10.12"
  }
 },
 "nbformat": 4,
 "nbformat_minor": 5
}
